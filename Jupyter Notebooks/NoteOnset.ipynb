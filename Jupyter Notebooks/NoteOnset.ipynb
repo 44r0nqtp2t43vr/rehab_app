{
 "cells": [
  {
   "cell_type": "code",
   "execution_count": 9,
   "id": "c26d2117",
   "metadata": {},
   "outputs": [
    {
     "name": "stdout",
     "output_type": "stream",
     "text": [
      "Starting the note onset detection process...\n",
      "Checking if the audio file exists...\n",
      "Loading audio file...\n",
      "Audio file loaded successfully.\n",
      "Detecting note onsets...\n",
      "Note onsets detected successfully.\n",
      "Saving note onsets to JSON file...\n",
      "Note onsets saved successfully to /COLLEGE STUFF/4TH YEAR/Taiwan/Practicum/HEAD Lab Projects/rehab_app/rehab_flutter/assets/data/waltzoftheflowers_onset.json\n",
      "Note onsets saved successfully to /COLLEGE STUFF/4TH YEAR/Taiwan/Practicum/HEAD Lab Projects/rehab_app/rehab_flutter/assets/data/waltzoftheflowers_onset.json\n"
     ]
    }
   ],
   "source": [
    "import librosa\n",
    "import numpy as np\n",
    "import json\n",
    "import os\n",
    "\n",
    "def getNoteOnsets(audio_path, file_path):\n",
    "    try:\n",
    "        print(\"Starting the note onset detection process...\")\n",
    "\n",
    "        # Check if the audio file exists\n",
    "        print(\"Checking if the audio file exists...\")\n",
    "        if not os.path.isfile(audio_path):\n",
    "            print(f\"Error: The specified audio file path does not exist: {audio_path}\")\n",
    "            return\n",
    "        \n",
    "        # Load the audio file\n",
    "        print(\"Loading audio file...\")\n",
    "        y, sr = librosa.load(audio_path, sr=None)\n",
    "        print(\"Audio file loaded successfully.\")\n",
    "\n",
    "        # Detect note onsets\n",
    "        print(\"Detecting note onsets...\")\n",
    "        onset_frames = librosa.onset.onset_detect(y=y, sr=sr)\n",
    "        onset_times = librosa.frames_to_time(onset_frames, sr=sr)\n",
    "        print(\"Note onsets detected successfully.\")\n",
    "\n",
    "        # Prepare the onset times for JSON serialization\n",
    "        onset_data = {\"note_onsets\": onset_times.tolist()}\n",
    "\n",
    "        # Save the onset times to a JSON file\n",
    "        print(\"Saving note onsets to JSON file...\")\n",
    "        with open(file_path, \"w\") as outfile:\n",
    "            json.dump(onset_data, outfile, indent=4)\n",
    "        print(f\"Note onsets saved successfully to {file_path}\")\n",
    "\n",
    "        print(f\"Note onsets saved successfully to {file_path}\")\n",
    "    \n",
    "    except FileNotFoundError:\n",
    "        print(\"Error: The specified audio file path does not exist.\")\n",
    "    except Exception as e:\n",
    "        print(f\"An error occurred: {type(e).__name__}: {e}\")\n",
    "\n",
    "# Define your filename, audio_path, and file_path\n",
    "filename = \"waltzoftheflowers\"\n",
    "audio_path = f\"/COLLEGE STUFF/4TH YEAR/Taiwan/Practicum/HEAD Lab Projects/rehab_flutter songs/{filename}.mp3\"\n",
    "file_path = f\"/COLLEGE STUFF/4TH YEAR/Taiwan/Practicum/HEAD Lab Projects/rehab_app/rehab_flutter/assets/data/{filename}_onset.json\"\n",
    "\n",
    "# Extract note onsets and save them to a file\n",
    "getNoteOnsets(audio_path, file_path)\n"
   ]
  },
  {
   "cell_type": "code",
   "execution_count": null,
   "id": "de7103fd",
   "metadata": {},
   "outputs": [],
   "source": []
  }
 ],
 "metadata": {
  "kernelspec": {
   "display_name": "Python 3 (ipykernel)",
   "language": "python",
   "name": "python3"
  },
  "language_info": {
   "codemirror_mode": {
    "name": "ipython",
    "version": 3
   },
   "file_extension": ".py",
   "mimetype": "text/x-python",
   "name": "python",
   "nbconvert_exporter": "python",
   "pygments_lexer": "ipython3",
   "version": "3.9.13"
  }
 },
 "nbformat": 4,
 "nbformat_minor": 5
}
