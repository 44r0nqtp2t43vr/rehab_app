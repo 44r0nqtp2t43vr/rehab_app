{
 "cells": [
  {
   "cell_type": "code",
   "execution_count": 6,
   "id": "c26d2117",
   "metadata": {},
   "outputs": [
    {
     "name": "stdout",
     "output_type": "stream",
     "text": [
      "Note onsets saved successfully to /Users/garfieldgreglim/Documents/Repos/HEAD/rehab_app/rehab_flutter/assets/data/vivalavida_onset.json\n"
     ]
    }
   ],
   "source": [
    "import librosa\n",
    "import numpy as np\n",
    "import json\n",
    "\n",
    "def getNoteOnsets(audio_path, file_path):\n",
    "    # Load the audio file\n",
    "    y, sr = librosa.load(audio_path, sr=None)\n",
    "    \n",
    "    # Detect note onsets\n",
    "    onset_frames = librosa.onset.onset_detect(y=y, sr=sr)\n",
    "    onset_times = librosa.frames_to_time(onset_frames, sr=sr)\n",
    "    \n",
    "    # Prepare the onset times for JSON serialization\n",
    "    onset_data = {\"note_onsets\": onset_times.tolist()}\n",
    "    \n",
    "    # Save the onset times to a JSON file\n",
    "    with open(file_path, \"w\") as outfile:\n",
    "        json.dump(onset_data, outfile, indent=4)\n",
    "    \n",
    "    print(f\"Note onsets saved successfully to {file_path}\")\n",
    "\n",
    "# Define your filename, audio_path, and file_path\n",
    "filename = \"vivalavida\"\n",
    "audio_path = f\"/Users/garfieldgreglim/Documents/Repos/HEAD/rehab_app/rehab_flutter/assets/audio/{filename}.mp3\"\n",
    "file_path = f\"/Users/garfieldgreglim/Documents/Repos/HEAD/rehab_app/rehab_flutter/assets/data/{filename}_onset.json\"\n",
    "\n",
    "# Extract note onsets and save them to a file\n",
    "getNoteOnsets(audio_path, file_path)\n"
   ]
  },
  {
   "cell_type": "code",
   "execution_count": null,
   "id": "de7103fd",
   "metadata": {},
   "outputs": [],
   "source": []
  }
 ],
 "metadata": {
  "kernelspec": {
   "display_name": "Python 3 (ipykernel)",
   "language": "python",
   "name": "python3"
  },
  "language_info": {
   "codemirror_mode": {
    "name": "ipython",
    "version": 3
   },
   "file_extension": ".py",
   "mimetype": "text/x-python",
   "name": "python",
   "nbconvert_exporter": "python",
   "pygments_lexer": "ipython3",
   "version": "3.11.4"
  }
 },
 "nbformat": 4,
 "nbformat_minor": 5
}
