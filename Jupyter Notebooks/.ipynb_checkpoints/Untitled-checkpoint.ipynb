{
 "cells": [
  {
   "cell_type": "code",
   "execution_count": 11,
   "id": "517f64cb",
   "metadata": {},
   "outputs": [
    {
     "name": "stdout",
     "output_type": "stream",
     "text": [
      "JSON file saved successfully at: /Users/garfieldgreglim/Documents/Repos/HEAD/rehab_app/rehab_flutter/assets/data/forest_of_blocks.json\n"
     ]
    }
   ],
   "source": [
    "import librosa\n",
    "import numpy as np\n",
    "import json\n",
    "\n",
    "def extract_features(audio_path):\n",
    "    # Load the audio file\n",
    "    y, sr = librosa.load(audio_path, sr=None)\n",
    "    \n",
    "    # Define the hop length (number of samples per time-step)\n",
    "    hop_length = int(0.050 * sr)  # 50ms window\n",
    "    \n",
    "    # Apply STFT\n",
    "    D = np.abs(librosa.stft(y, hop_length=hop_length))\n",
    "    \n",
    "    # Frequency bins\n",
    "    freqs = librosa.fft_frequencies(sr=sr)\n",
    "    \n",
    "    # Define frequency ranges\n",
    "    ranges = {\n",
    "        \"sub_bass\": (20, 60),\n",
    "        \"bass\": (60, 250),\n",
    "        \"lower_midrange\": (250, 500),\n",
    "        \"midrange\": (500, 2000),\n",
    "        \"higher_midrange\": (2000, 4000),\n",
    "        \"presence\": (4000, 6000),\n",
    "        \"brilliance\": (6000, 20000),\n",
    "    }\n",
    "    \n",
    "    # Calculate the time for each column in D\n",
    "    times = librosa.frames_to_time(range(D.shape[1]), sr=sr, hop_length=hop_length)\n",
    "    \n",
    "    # Detect note onsets\n",
    "    onset_frames = librosa.onset.onset_detect(y=y, sr=sr, hop_length=hop_length)\n",
    "    onset_times = librosa.frames_to_time(onset_frames, sr=sr, hop_length=hop_length)\n",
    "    \n",
    "    # Initialize the output dictionary\n",
    "    output = []\n",
    "    \n",
    "    # Extract energy in the specified frequency ranges for each time-step\n",
    "    for i, time in enumerate(times):\n",
    "        features = {\"time\": float(time)}  # Convert to Python float\n",
    "        for name, (low, high) in ranges.items():\n",
    "            # Find the indices of the frequency bins that fall into the current range\n",
    "            indices = np.where((freqs >= low) & (freqs <= high))[0]\n",
    "            # Calculate the average energy in this frequency range\n",
    "            energy = np.mean(D[indices, i])\n",
    "            features[name] = float(energy)  # Convert to Python float\n",
    "        \n",
    "        # Check if there is a note onset at this time-step\n",
    "            features[\"note_onset\"] = int(time in onset_times) # Cast boolean to integer\n",
    "\n",
    "        \n",
    "        output.append(features)\n",
    "    \n",
    "    return json.dumps(output, indent=4)\n",
    "\n",
    "# Use the function with your audio path\n",
    "audio_path = \"/Users/garfieldgreglim/Documents/Repos/HEAD/rehab_app/rehab_flutter/assets/audio/forestofblocks.mp3\"\n",
    "# Save or print the JSON output\n",
    "file_path = \"/Users/garfieldgreglim/Documents/Repos/HEAD/rehab_app/rehab_flutter/assets/data/forest_of_blocks.json\"\n",
    "\n",
    "# Save the dictionary as JSON\n",
    "features_json = extract_features(audio_path)\n",
    "# Save the JSON string to the file\n",
    "with open(file_path, \"w\") as json_file:\n",
    "    json_file.write(features_json) \n",
    "\n",
    "\n",
    "print(\"JSON file saved successfully at:\", file_path)"
   ]
  },
  {
   "cell_type": "code",
   "execution_count": 13,
   "id": "5fb70f6b",
   "metadata": {},
   "outputs": [
    {
     "ename": "AttributeError",
     "evalue": "'str' object has no attribute 'items'",
     "output_type": "error",
     "traceback": [
      "\u001b[0;31m---------------------------------------------------------------------------\u001b[0m",
      "\u001b[0;31mAttributeError\u001b[0m                            Traceback (most recent call last)",
      "Cell \u001b[0;32mIn[13], line 18\u001b[0m\n\u001b[1;32m     15\u001b[0m     \u001b[38;5;28;01mreturn\u001b[39;00m data\n\u001b[1;32m     17\u001b[0m \u001b[38;5;66;03m# Normalize the data\u001b[39;00m\n\u001b[0;32m---> 18\u001b[0m normalized_data \u001b[38;5;241m=\u001b[39m \u001b[43mnormalize\u001b[49m\u001b[43m(\u001b[49m\u001b[43mfeatures_json\u001b[49m\u001b[43m)\u001b[49m \n\u001b[1;32m     20\u001b[0m \u001b[38;5;66;03m# Write to file (replace with your desired filename)\u001b[39;00m\n\u001b[1;32m     21\u001b[0m \u001b[38;5;28;01mwith\u001b[39;00m \u001b[38;5;28mopen\u001b[39m(\u001b[38;5;124m\"\u001b[39m\u001b[38;5;124moutput.json\u001b[39m\u001b[38;5;124m\"\u001b[39m, \u001b[38;5;124m\"\u001b[39m\u001b[38;5;124mw\u001b[39m\u001b[38;5;124m\"\u001b[39m) \u001b[38;5;28;01mas\u001b[39;00m json_file:\n",
      "Cell \u001b[0;32mIn[13], line 8\u001b[0m, in \u001b[0;36mnormalize\u001b[0;34m(data)\u001b[0m\n\u001b[1;32m      5\u001b[0m \u001b[38;5;250m\u001b[39m\u001b[38;5;124;03m\"\"\"Normalizes each frequency band in the data.\"\"\"\u001b[39;00m\n\u001b[1;32m      6\u001b[0m \u001b[38;5;28;01mfor\u001b[39;00m item \u001b[38;5;129;01min\u001b[39;00m data:\n\u001b[1;32m      7\u001b[0m     \u001b[38;5;66;03m# Find the maximum value across all frequency bands\u001b[39;00m\n\u001b[0;32m----> 8\u001b[0m     max_value \u001b[38;5;241m=\u001b[39m \u001b[38;5;28mmax\u001b[39m(value \u001b[38;5;28;01mfor\u001b[39;00m band, value \u001b[38;5;129;01min\u001b[39;00m \u001b[43mitem\u001b[49m\u001b[38;5;241;43m.\u001b[39;49m\u001b[43mitems\u001b[49m() \u001b[38;5;28;01mif\u001b[39;00m band \u001b[38;5;241m!=\u001b[39m \u001b[38;5;124m\"\u001b[39m\u001b[38;5;124mtime\u001b[39m\u001b[38;5;124m\"\u001b[39m \u001b[38;5;129;01mand\u001b[39;00m band \u001b[38;5;241m!=\u001b[39m \u001b[38;5;124m\"\u001b[39m\u001b[38;5;124mnote_onset\u001b[39m\u001b[38;5;124m\"\u001b[39m)\n\u001b[1;32m     10\u001b[0m     \u001b[38;5;66;03m# Normalize each frequency band value\u001b[39;00m\n\u001b[1;32m     11\u001b[0m     \u001b[38;5;28;01mfor\u001b[39;00m band, value \u001b[38;5;129;01min\u001b[39;00m item\u001b[38;5;241m.\u001b[39mitems():\n",
      "\u001b[0;31mAttributeError\u001b[0m: 'str' object has no attribute 'items'"
     ]
    }
   ],
   "source": [
    "import json\n",
    "import numpy as np\n",
    "\n",
    "def normalize(data):\n",
    "    \"\"\"Normalizes each frequency band in the data.\"\"\"\n",
    "    for item in data:\n",
    "        # Find the maximum value across all frequency bands\n",
    "        max_value = max(value for band, value in item.items() if band != \"time\" and band != \"note_onset\")\n",
    "\n",
    "        # Normalize each frequency band value\n",
    "        for band, value in item.items():\n",
    "            if band != \"time\" and band != \"note_onset\":\n",
    "                item[band] = value / max_value\n",
    "\n",
    "    return data\n",
    "\n",
    "# Normalize the data\n",
    "normalized_data = normalize(features_json) \n",
    "\n",
    "# Write to file (replace with your desired filename)\n",
    "with open(\"output.json\", \"w\") as json_file:\n",
    "    json_file.write(json_string)\n",
    "\n",
    "print(\"Normalized JSON data written to output.json\") \n"
   ]
  },
  {
   "cell_type": "code",
   "execution_count": null,
   "id": "c8236266",
   "metadata": {},
   "outputs": [],
   "source": []
  }
 ],
 "metadata": {
  "kernelspec": {
   "display_name": "Python 3 (ipykernel)",
   "language": "python",
   "name": "python3"
  },
  "language_info": {
   "codemirror_mode": {
    "name": "ipython",
    "version": 3
   },
   "file_extension": ".py",
   "mimetype": "text/x-python",
   "name": "python",
   "nbconvert_exporter": "python",
   "pygments_lexer": "ipython3",
   "version": "3.11.4"
  }
 },
 "nbformat": 4,
 "nbformat_minor": 5
}
